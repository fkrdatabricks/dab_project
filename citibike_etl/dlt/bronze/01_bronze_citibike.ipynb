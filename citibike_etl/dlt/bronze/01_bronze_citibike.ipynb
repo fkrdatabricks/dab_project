{
 "cells": [
  {
   "cell_type": "code",
   "execution_count": null,
   "id": "8a257de7",
   "metadata": {},
   "outputs": [],
   "source": [
    "import dlt \n",
    "from pyspark.sql.types import StructField, StructType, StringType, DecimalType, TimestampType\n",
    "from pyspark.sql.functions import lit, col, create_map"
   ]
  },
  {
   "cell_type": "code",
   "execution_count": null,
   "id": "2bfe4fd2",
   "metadata": {},
   "outputs": [],
   "source": [
    "catalog = spark.conf.get('catalog')"
   ]
  },
  {
   "cell_type": "code",
   "execution_count": 2,
   "id": "c75733bd",
   "metadata": {},
   "outputs": [],
   "source": [
    "schema = StructType([\n",
    "             StructField(\"ride_id\", StringType(), True),\n",
    "             StructField(\"rideable_type\", StringType(), True),\n",
    "             StructField(\"started_at\", TimestampType(), True),\n",
    "             StructField(\"ended_at\", TimestampType(), True),\n",
    "             StructField(\"start_station_name\", StringType(), True),\n",
    "             StructField(\"start_station_id\", StringType(), True),\n",
    "             StructField(\"end_station_name\", StringType(), True),             \n",
    "             StructField(\"end_station_id\", StringType(), True),\n",
    "             StructField(\"start_lat\", DecimalType(), True),\n",
    "             StructField(\"start_lng\", DecimalType(), True),\n",
    "             StructField(\"end_lat\", DecimalType(), True),\n",
    "             StructField(\"end_lng\", DecimalType(), True),\n",
    "             StructField(\"member_casual\", StringType(), True),\n",
    "\n",
    "])"
   ]
  },
  {
   "cell_type": "code",
   "execution_count": null,
   "id": "7b48f2f9",
   "metadata": {},
   "outputs": [],
   "source": [
    "@dlt.table(\n",
    "    comment=\"bronze layer streaming table\"\n",
    "    )\n",
    "def bronze_jc_citibike():\n",
    "    return (spark.read\n",
    "               .schema(schema)\n",
    "               .csv(f\"/Volumes/{catalog}/00_landing/source_citibike_data/JC-202503-citibike-tripdata.csv\", \n",
    "                           header=True)\n",
    "          )"
   ]
  }
 ],
 "metadata": {
  "kernelspec": {
   "display_name": ".venv_dbc",
   "language": "python",
   "name": "python3"
  },
  "language_info": {
   "codemirror_mode": {
    "name": "ipython",
    "version": 3
   },
   "file_extension": ".py",
   "mimetype": "text/x-python",
   "name": "python",
   "nbconvert_exporter": "python",
   "pygments_lexer": "ipython3",
   "version": "3.12.3"
  }
 },
 "nbformat": 4,
 "nbformat_minor": 5
}
