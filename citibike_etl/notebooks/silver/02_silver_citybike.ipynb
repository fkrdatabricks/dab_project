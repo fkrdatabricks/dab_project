{
 "cells": [
  {
   "cell_type": "code",
   "execution_count": 15,
   "id": "e952505d",
   "metadata": {},
   "outputs": [],
   "source": [
    "import os\n",
    "import sys\n",
    "\n",
    "current_dir = os.getcwd()\n",
    "# print(current_dir)\n",
    "project_root = os.path.abspath(os.path.join(current_dir, \"..\",\"..\", \"..\"))\n",
    "# print(project_root)\n",
    "sys.path.append(project_root)"
   ]
  },
  {
   "cell_type": "code",
   "execution_count": null,
   "id": "e96d80c9",
   "metadata": {},
   "outputs": [],
   "source": [
    "pipeline_id = dbutils.widgets.get(\"pipeline_id\")\n",
    "run_id = dbutils.widgets.get(\"run_id\")\n",
    "task_id = dbutils.widgets.get(\"task_id\")\n",
    "processed_timestamp = dbutils.widgets.get(\"processed_timestamp\")\n",
    "catalog = dbutils.widgets.get(\"catalog\")"
   ]
  },
  {
   "cell_type": "code",
   "execution_count": 1,
   "id": "5689e0ca",
   "metadata": {},
   "outputs": [],
   "source": [
    "from pyspark.sql.functions import lit, col, create_map\n",
    "from src.citibike.citibike_utils import get_trip_duration_mins\n",
    "from src.utils.datetime_utils import timestamp_to_date_col"
   ]
  },
  {
   "cell_type": "code",
   "execution_count": null,
   "id": "9602f8db",
   "metadata": {},
   "outputs": [],
   "source": [
    "df = spark.read.table(f\"{catalog}.01_bronze.jc_citibike\")"
   ]
  },
  {
   "cell_type": "code",
   "execution_count": 4,
   "id": "09c22dfd",
   "metadata": {},
   "outputs": [],
   "source": [
    "df = get_trip_duration_mins(spark, df, \"started_at\", \"ended_at\", \"trip_duration_mins\")"
   ]
  },
  {
   "cell_type": "code",
   "execution_count": 5,
   "id": "25d58349",
   "metadata": {},
   "outputs": [],
   "source": [
    "df = timestamp_to_date_col(spark, df, \"started_at\", \"trip_start_date\")"
   ]
  },
  {
   "cell_type": "code",
   "execution_count": null,
   "id": "aa308dcb",
   "metadata": {},
   "outputs": [],
   "source": [
    "df = df.withColumn(\"metadata\",\n",
    "                   create_map(\n",
    "                        lit(\"pipeline_id\"), lit(pipeline_id),\n",
    "                        lit(\"run_id\"), lit(run_id),\n",
    "                        lit(\"task_id\"), lit(task_id), \n",
    "                        lit(\"processed_timestamp\"), lit(processed_timestamp)\n",
    "                      ))"
   ]
  },
  {
   "cell_type": "code",
   "execution_count": 8,
   "id": "f927859d",
   "metadata": {},
   "outputs": [],
   "source": [
    "df = df.select(\"ride_id\", \"trip_start_date\", \"started_at\", \"ended_at\", \"start_station_name\", \n",
    "             \"end_station_name\", \"trip_duration_mins\", \"metadata\")"
   ]
  },
  {
   "cell_type": "code",
   "execution_count": null,
   "id": "52b0778b",
   "metadata": {},
   "outputs": [],
   "source": [
    "df.write.mode('overwrite').option('overwriteSchema', 'true').saveAsTable(f\"{catalog}.02_silver.jc_citibike\")"
   ]
  }
 ],
 "metadata": {
  "kernelspec": {
   "display_name": ".venv_dbc",
   "language": "python",
   "name": "python3"
  },
  "language_info": {
   "codemirror_mode": {
    "name": "ipython",
    "version": 3
   },
   "file_extension": ".py",
   "mimetype": "text/x-python",
   "name": "python",
   "nbconvert_exporter": "python",
   "pygments_lexer": "ipython3",
   "version": "3.12.3"
  }
 },
 "nbformat": 4,
 "nbformat_minor": 5
}
