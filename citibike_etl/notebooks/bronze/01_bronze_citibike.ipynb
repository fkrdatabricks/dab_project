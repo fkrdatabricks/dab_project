{
 "cells": [
  {
   "cell_type": "code",
   "execution_count": 1,
   "id": "8a257de7",
   "metadata": {},
   "outputs": [],
   "source": [
    "from pyspark.sql.types import StructField, StructType, StringType, DecimalType, TimestampType\n",
    "from pyspark.sql.functions import lit, col, create_map"
   ]
  },
  {
   "cell_type": "code",
   "execution_count": null,
   "id": "2bfe4fd2",
   "metadata": {},
   "outputs": [],
   "source": [
    "pipeline_id = dbutils.widgets.get(\"pipeline_id\")\n",
    "run_id = dbutils.widgets.get(\"run_id\")\n",
    "task_id = dbutils.widgets.get(\"task_id\")\n",
    "processed_timestamp = dbutils.widgets.get(\"processed_timestamp\")\n",
    "catalog = dbutils.widgets.get(\"catalog\")"
   ]
  },
  {
   "cell_type": "code",
   "execution_count": 2,
   "id": "c75733bd",
   "metadata": {},
   "outputs": [],
   "source": [
    "schema = StructType([\n",
    "             StructField(\"ride_id\", StringType(), True),\n",
    "             StructField(\"rideable_type\", StringType(), True),\n",
    "             StructField(\"started_at\", TimestampType(), True),\n",
    "             StructField(\"ended_at\", TimestampType(), True),\n",
    "             StructField(\"start_station_name\", StringType(), True),\n",
    "             StructField(\"start_station_id\", StringType(), True),\n",
    "             StructField(\"end_station_name\", StringType(), True),             \n",
    "             StructField(\"end_station_id\", StringType(), True),\n",
    "             StructField(\"start_lat\", DecimalType(), True),\n",
    "             StructField(\"start_lng\", DecimalType(), True),\n",
    "             StructField(\"end_lat\", DecimalType(), True),\n",
    "             StructField(\"end_lng\", DecimalType(), True),\n",
    "             StructField(\"member_casual\", StringType(), True),\n",
    "\n",
    "])"
   ]
  },
  {
   "cell_type": "code",
   "execution_count": null,
   "id": "7b48f2f9",
   "metadata": {},
   "outputs": [],
   "source": [
    "df = spark.read.csv(f\"/Volumes/{catalog}/00_landing/source_citibike_data/JC-202503-citibike-tripdata.csv\", schema = schema, header='true')"
   ]
  },
  {
   "cell_type": "code",
   "execution_count": null,
   "id": "f74ed106",
   "metadata": {},
   "outputs": [],
   "source": [
    "df = df.withColumn(\"metadata\",\n",
    "                   create_map(\n",
    "                        lit(\"pipeline_id\"), lit(pipeline_id),\n",
    "                        lit(\"run_id\"), lit(run_id),\n",
    "                        lit(\"task_id\"), lit(task_id), \n",
    "                        lit(\"processed_timestamp\"), lit(processed_timestamp)\n",
    "                      ))"
   ]
  },
  {
   "cell_type": "code",
   "execution_count": null,
   "id": "0ad7dc22",
   "metadata": {},
   "outputs": [],
   "source": [
    "df.write.mode('overwrite').option('overwriteSchema', 'true').saveAsTable(f\"{catalog}.01_bronze.jc_citibike\")"
   ]
  }
 ],
 "metadata": {
  "kernelspec": {
   "display_name": ".venv_dbc",
   "language": "python",
   "name": "python3"
  },
  "language_info": {
   "codemirror_mode": {
    "name": "ipython",
    "version": 3
   },
   "file_extension": ".py",
   "mimetype": "text/x-python",
   "name": "python",
   "nbconvert_exporter": "python",
   "pygments_lexer": "ipython3",
   "version": "3.12.3"
  }
 },
 "nbformat": 4,
 "nbformat_minor": 5
}
