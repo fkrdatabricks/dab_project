{
 "cells": [
  {
   "cell_type": "code",
   "execution_count": 1,
   "id": "3f0e20f0",
   "metadata": {},
   "outputs": [],
   "source": [
    "from pyspark.sql.functions import avg, count, round "
   ]
  },
  {
   "cell_type": "code",
   "execution_count": null,
   "id": "d5c45e3b",
   "metadata": {},
   "outputs": [],
   "source": [
    "catalog = dbutils.widgets.get(\"catalog\")"
   ]
  },
  {
   "cell_type": "code",
   "execution_count": null,
   "id": "87d4f34c",
   "metadata": {},
   "outputs": [],
   "source": [
    "df = spark.read.table(f\"{catalog}.02_silver.jc_citibike\")"
   ]
  },
  {
   "cell_type": "code",
   "execution_count": 4,
   "id": "a999ca36",
   "metadata": {},
   "outputs": [],
   "source": [
    "df = df.groupBy(\"trip_start_date\", \"start_station_name\").agg(\n",
    "                 round(avg(\"trip_duration_mins\"),2).alias(\"avg_trip_duration_mins\"),\n",
    "                 count(\"ride_id\").alias(\"total_trips\")\n",
    ")"
   ]
  },
  {
   "cell_type": "code",
   "execution_count": null,
   "id": "c68b37dc",
   "metadata": {},
   "outputs": [],
   "source": [
    "df.write.mode('overwrite').option('overwriteSchema', 'true').saveAsTable(f\"{catalog}.03_gold.daily_station_performance\")"
   ]
  }
 ],
 "metadata": {
  "kernelspec": {
   "display_name": ".venv_dbc",
   "language": "python",
   "name": "python3"
  },
  "language_info": {
   "codemirror_mode": {
    "name": "ipython",
    "version": 3
   },
   "file_extension": ".py",
   "mimetype": "text/x-python",
   "name": "python",
   "nbconvert_exporter": "python",
   "pygments_lexer": "ipython3",
   "version": "3.12.3"
  }
 },
 "nbformat": 4,
 "nbformat_minor": 5
}
